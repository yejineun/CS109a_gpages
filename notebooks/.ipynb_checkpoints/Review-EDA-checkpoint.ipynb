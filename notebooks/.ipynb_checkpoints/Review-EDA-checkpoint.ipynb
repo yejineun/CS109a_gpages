{
 "cells": [
  {
   "cell_type": "markdown",
   "metadata": {},
   "source": [
    "# review EDA new title."
   ]
  },
  {
   "cell_type": "code",
   "execution_count": 2,
   "metadata": {
    "collapsed": true
   },
   "outputs": [],
   "source": [
    "import pandas as pd\n",
    "import numpy as np"
   ]
  },
  {
   "cell_type": "code",
   "execution_count": 3,
   "metadata": {
    "collapsed": true
   },
   "outputs": [],
   "source": [
    "review = pd.read_csv('data/restaurant_reviews_final.csv',encoding = \"ISO-8859-1\",index_col=0)"
   ]
  },
  {
   "cell_type": "code",
   "execution_count": 4,
   "metadata": {
    "collapsed": false
   },
   "outputs": [
    {
     "data": {
      "text/plain": [
       "(529371, 10)"
      ]
     },
     "execution_count": 4,
     "metadata": {},
     "output_type": "execute_result"
    }
   ],
   "source": [
    "review.shape"
   ]
  },
  {
   "cell_type": "code",
   "execution_count": 5,
   "metadata": {
    "collapsed": false
   },
   "outputs": [
    {
     "data": {
      "text/plain": [
       "Index(['business_id', 'review_cool', 'review_funny', 'review_id',\n",
       "       'review_stars', 'review_useful', 'user_id', 'review_year',\n",
       "       'review_month', 'review_weekday'],\n",
       "      dtype='object')"
      ]
     },
     "execution_count": 5,
     "metadata": {},
     "output_type": "execute_result"
    }
   ],
   "source": [
    "review.columns"
   ]
  },
  {
   "cell_type": "code",
   "execution_count": 14,
   "metadata": {
    "collapsed": false
   },
   "outputs": [
    {
     "data": {
      "text/plain": [
       "user_id\n",
       "CxDOIDnH8gp9KXzpBHJYXw    601\n",
       "bLbSNkLggFnqwNNzzq-Ijw    466\n",
       "DK57YibC5ShBmqQl97CKog    270\n",
       "ELcQDlf69kb-ihJfxZyL0A    256\n",
       "d_TBs6J3twMy9GChqUEXkg    253\n",
       "PKEzKWv_FktMm2mGPjwd0Q    237\n",
       "cMEtAiW60I5wE_vLfTxoJQ    233\n",
       "U4INQZOPSUaj8hMjLlZ3KA    225\n",
       "hWDybu_KvYLSdEFzGrniTw    203\n",
       "UYcmGbelzRa0Q6JqzLoguw    203\n",
       "3nDUQBjKyVor5wV0reJChg    175\n",
       "Ry1O_KXZHGRI8g5zBR3IcQ    164\n",
       "QJI9OSEn6ujRCtrX06vs1w    163\n",
       "pMefTWo6gMdx8WhYSA2u3w    160\n",
       "62GNFh5FySkA3MbrQmnqvg    156\n",
       "n86B7IkbU20AkxlFX_5aew    154\n",
       "iDlkZO2iILS8Jwfdy7DP9A    153\n",
       "2e5V6M4GNufEnbGJpVdCjw    152\n",
       "y3FcL4bLy0eLlkb0SDPnBQ    150\n",
       "0tvCcnfJnSs55iB6mqPk3w    150\n",
       "C2C0GPKvzWWnP57Os9eQ0w    149\n",
       "Wu0yySWcHQ5tZ_59HNiamg    148\n",
       "U5YQX_vMl_xQy8EQDqlNQQ    148\n",
       "HJj82f-csBI7jjgenwqhvw    148\n",
       "tH0uKD-vNwMoEc3Xk3Cbdg    139\n",
       "WeVkkF5L39888IPPlRhNpg    139\n",
       "_VMGbmIeK71rQGwOBWt_Kg    138\n",
       "A0j21z2Q1HGic7jW6e9h7A    138\n",
       "Q4Qfu-3vYtL1LRm2X1b0Gg    138\n",
       "N3oNEwh0qgPqPP3Em6wJXw    135\n",
       "                         ... \n",
       "hkdKNmWWz1w2q5pCtkFwOA      2\n",
       "LqUBF9KYmIVuD2ltmiGKQQ      2\n",
       "LqXGChooGqywcIfOe5Xbsg      2\n",
       "LqYdURcPrWcahAaTvdHUTA      2\n",
       "LrQ3cxYl4wQQtfmquQpOlw      2\n",
       "hkAEAyRN1PU9NTJfSnEBIQ      2\n",
       "LrJHD5iQSAfXUgoTlTalyA      2\n",
       "LrHMsMpqeO7xLr165ktchQ      2\n",
       "hkEcsVE9F6zNx30YSxoBcw      2\n",
       "LrCBq5qXz2pBJX5Mfgc5Zw      2\n",
       "LrAfmVxY0SqeOcxQmuppqA      2\n",
       "hkIDawAWQIWMo1VkNiJA8A      2\n",
       "Lr3G7qI13LkPRnBO2groew      2\n",
       "Lr-gIc-cQWF0h4pW7Ljnxw      2\n",
       "Lqy21XyyxcDoISvaJHuzZg      2\n",
       "hkO0mlhfqoyl1IFMULPT6Q      2\n",
       "Lqwx1ua2nwv1p5py7G24xw      2\n",
       "LqnqtcKq5cHhjB7tyoo1jA      2\n",
       "LqnKUCoiQksIPaO0qFkuGg      2\n",
       "hkOhF-YeyDIyHr1f52indg      2\n",
       "hkQRmIpZwD1EhYvFtULJlw      2\n",
       "hkSTeVnKsPM_dQeD5GWsTQ      2\n",
       "LqfcbExEc_r1Pz9NqzSdeg      2\n",
       "hkTgliw3DxT0gSv4IYpQeQ      2\n",
       "hkaIRkLTgpxHXWea2OfidQ      2\n",
       "LqdtAL5lD8nBgQCGH6LugQ      2\n",
       "LqbiHIk2l_mK_CN4xq-fCQ      2\n",
       "LqZrS17fqqOjmJSvE-U1hQ      2\n",
       "hkbdFon8SH0SfAYMwNQvZQ      2\n",
       "zzwTJAgONYCTeJia4te47g      2\n",
       "Name: business_id, Length: 117863, dtype: int64"
      ]
     },
     "execution_count": 14,
     "metadata": {},
     "output_type": "execute_result"
    }
   ],
   "source": [
    "reviewCount = review.groupby('user_id').count()['business_id']\n",
    "\n",
    "reviewCount.sort_values(ascending=False)"
   ]
  },
  {
   "cell_type": "markdown",
   "metadata": {},
   "source": [
    "There are 117,863 total users. 61,833 have only 2 ratings. 20,048 rate everything a 5 or everything a 1."
   ]
  },
  {
   "cell_type": "code",
   "execution_count": 31,
   "metadata": {
    "collapsed": false
   },
   "outputs": [
    {
     "name": "stdout",
     "output_type": "stream",
     "text": [
      "Total users: 117863\n",
      "\n",
      "Users with  2 reviews: 56030\n",
      "Users with < 10 reviews: 108648\n",
      "Users with > 100 reviews: 69\n"
     ]
    }
   ],
   "source": [
    "print('Total users: {}\\n'.format(reviewCount.shape[0]))\n",
    "print('Users with  2 reviews: {}'.format(reviewCount[reviewCount == 2].shape[0]))\n",
    "print('Users with < 10 reviews: {}'.format(reviewCount[reviewCount < 10].shape[0]))\n",
    "print('Users with > 100 reviews: {}'.format(reviewCount[reviewCount > 100].shape[0]))"
   ]
  },
  {
   "cell_type": "code",
   "execution_count": 33,
   "metadata": {
    "collapsed": false
   },
   "outputs": [
    {
     "name": "stdout",
     "output_type": "stream",
     "text": [
      "Overall Average Rating: 3.75789002419853\n"
     ]
    },
    {
     "data": {
      "text/plain": [
       "(2373, 17675)"
      ]
     },
     "execution_count": 33,
     "metadata": {},
     "output_type": "execute_result"
    }
   ],
   "source": [
    "print('Overall Average Rating: {}'.format(review['review_stars'].mean()))\n",
    "\n",
    "averageRatingByUser = review.groupby('user_id')['review_stars'].mean()\n",
    "\n",
    "averageRatingByUser[averageRatingByUser == 1].shape[0], averageRatingByUser[averageRatingByUser == 5].shape[0]"
   ]
  },
  {
   "cell_type": "code",
   "execution_count": null,
   "metadata": {
    "collapsed": true
   },
   "outputs": [],
   "source": []
  }
 ],
 "metadata": {
  "kernelspec": {
   "display_name": "Python 3",
   "language": "python",
   "name": "python3"
  },
  "language_info": {
   "codemirror_mode": {
    "name": "ipython",
    "version": 3
   },
   "file_extension": ".py",
   "mimetype": "text/x-python",
   "name": "python",
   "nbconvert_exporter": "python",
   "pygments_lexer": "ipython3",
   "version": "3.5.2"
  }
 },
 "nbformat": 4,
 "nbformat_minor": 2
}
